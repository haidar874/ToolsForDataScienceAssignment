{
 "cells": [
  {
   "cell_type": "markdown",
   "metadata": {},
   "source": [
    "<center>\n",
    "    <h1>My Jupyter Notebook on IBM Watson Studio</h1>\n",
    "</center>"
   ]
  },
  {
   "cell_type": "markdown",
   "metadata": {},
   "source": [
    "<p><span style=\"font-weight:bold;\">Ali Haidar Bin Ansar</span></p>\n",
    "<p>Data Scientist</p>"
   ]
  },
  {
   "cell_type": "markdown",
   "metadata": {},
   "source": [
    "<p style=\"font-style:italic;\">I am interested in Data Science because the world is evolving fast than ever before and almost every industry has data and almost everyday they are producing tons of data and so the data science is more relevant than ever before we know.</p>"
   ]
  },
  {
   "cell_type": "markdown",
   "metadata": {},
   "source": [
    "<h3>The following code calculates a house price considering number of bedrooms and bathrooms</h3>"
   ]
  },
  {
   "cell_type": "code",
   "execution_count": 11,
   "metadata": {},
   "outputs": [
    {
     "name": "stdout",
     "output_type": "stream",
     "text": [
      "170000\n",
      "190000\n",
      "200000\n",
      "210000\n"
     ]
    }
   ],
   "source": [
    "def get_expected_cost(beds, baths):\n",
    "    value = 80000+30000*beds+10000*baths\n",
    "    return value\n",
    "\n",
    "\n",
    "option_one = get_expected_cost(2, 3)\n",
    "option_two = get_expected_cost(3, 2)\n",
    "option_three = get_expected_cost(3, 3)\n",
    "option_four = get_expected_cost(3, 4)\n",
    "print(option_one)\n",
    "print(option_two)\n",
    "print(option_three)\n",
    "print(option_four)\n"
   ]
  },
  {
   "cell_type": "markdown",
   "metadata": {},
   "source": [
    "<table>\n",
    "    <tr>\n",
    "        <center>\n",
    "        <h5>Savings Table</h5>\n",
    "        <th>Month</th>\n",
    "        <th>Savings</th>\n",
    "        </center>\n",
    "    </tr>\n",
    "    <tr>\n",
    "        <td>January</td>\n",
    "        <td>$10000</td>\n",
    "    </tr>\n",
    "    </table>\n",
    "    <h5>Bulleted list</h5>\n",
    "    <ul>\n",
    "    <li>Coffee</li>\n",
    "    <li>Tea</li>\n",
    "    <li>Milk</li>\n",
    "    </ul>\n",
    "    <h5>Using Horizontal rule below</h5>\n",
    "  <p>HTML stands for hypertext markup language</p>\n",
    "  <hr style=\"width:50%;text-align:left;margin-left:0;border:1px solid red;color:red;background-color:red\">\n",
    "  <p>Javascript is the language that used for web</p>\n",
    "    \n",
    "    "
   ]
  },
  {
   "cell_type": "markdown",
   "metadata": {},
   "source": []
  }
 ],
 "metadata": {
  "kernelspec": {
   "display_name": "Python 3.9",
   "language": "python",
   "name": "python3"
  },
  "language_info": {
   "codemirror_mode": {
    "name": "ipython",
    "version": 3
   },
   "file_extension": ".py",
   "mimetype": "text/x-python",
   "name": "python",
   "nbconvert_exporter": "python",
   "pygments_lexer": "ipython3",
   "version": "3.9.12"
  }
 },
 "nbformat": 4,
 "nbformat_minor": 4
}
