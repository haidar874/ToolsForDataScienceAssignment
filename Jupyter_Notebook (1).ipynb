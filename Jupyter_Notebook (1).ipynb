{
 "cells": [
  {
   "cell_type": "markdown",
   "metadata": {},
   "source": [
    "<center>\n",
    "    <h1>My Jupyter Notebook on IBM Watson Studio</h1>\n",
    "</center>"
   ]
  },
  {
   "cell_type": "markdown",
   "metadata": {},
   "source": [
    "<p><span style=\"font-weight:bold;\">Ali Haidar Bin Ansar</span></p>\n",
    "<p>Data Scientist</p>"
   ]
  },
  {
   "cell_type": "markdown",
   "metadata": {},
   "source": [
    "<p style=\"font-style:italic;\">I am interested in Data Science because the world is evolving fast than ever before and almost every industry has data and almost everyday they are producing tons of data and so the data science is more relevant than ever before we know.</p>"
   ]
  },
  {
   "cell_type": "markdown",
   "metadata": {},
   "source": [
    "<h3>The following code calculates a house price considering number of bedrooms and bathrooms</h3>"
   ]
  },
  {
   "cell_type": "code",
   "execution_count": 11,
   "metadata": {},
   "outputs": [
    {
     "name": "stdout",
     "output_type": "stream",
     "text": [
      "170000\n",
      "190000\n",
      "200000\n",
      "210000\n"
     ]
    }
   ],
   "source": [
    "def get_expected_cost(beds, baths):\n",
    "    value = 80000+30000*beds+10000*baths\n",
    "    return value\n",
    "\n",
    "\n",
    "option_one = get_expected_cost(2, 3)\n",
    "option_two = get_expected_cost(3, 2)\n",
    "option_three = get_expected_cost(3, 3)\n",
    "option_four = get_expected_cost(3, 4)\n",
    "print(option_one)\n",
    "print(option_two)\n",
    "print(option_three)\n",
    "print(option_four)\n"
   ]
  },
  {
   "cell_type": "markdown",
   "metadata": {},
   "source": [
    "<table>\n",
    "    <tr>\n",
    "        <center>\n",
    "        <h5>Savings Table</h5>\n",
    "        <th>Month</th>\n",
    "        <th>Savings</th>\n",
    "        </center>\n",
    "    </tr>\n",
    "    <tr>\n",
    "        <td>January</td>\n",
    "        <td>$10000</td>\n",
    "    </tr>\n",
    "    </table>\n",
    "    <img src=\"haidar.jpg\" width=\"500\" height=\"600\"> \n",
    "  <p>HTML stands for hypertext markup language</p>\n",
    "  <hr>\n",
    "  <p>Javascript is the language that used for web</p>\n",
    "    \n",
    "    "
   ]
  },
  {
   "cell_type": "code",
   "execution_count": null,
   "metadata": {},
   "outputs": [],
   "source": []
  },
  {
   "cell_type": "code",
   "execution_count": null,
   "metadata": {},
   "outputs": [],
   "source": []
  }
 ],
 "metadata": {
  "kernelspec": {
   "display_name": "Python",
   "language": "python",
   "name": "conda-env-python-py"
  },
  "language_info": {
   "codemirror_mode": {
    "name": "ipython",
    "version": 3
   },
   "file_extension": ".py",
   "mimetype": "text/x-python",
   "name": "python",
   "nbconvert_exporter": "python",
   "pygments_lexer": "ipython3",
   "version": "3.7.12"
  }
 },
 "nbformat": 4,
 "nbformat_minor": 4
}
